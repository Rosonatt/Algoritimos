{
 "cells": [
  {
   "cell_type": "markdown",
   "metadata": {},
   "source": [
    "1. Criação e Manipulação de Listas:\n",
    " Crie uma lista com 10 números inteiros aleatórios \n",
    " e escreva um programa para imprimir o \n",
    "maior e o menor número dessa lista."
   ]
  },
  {
   "cell_type": "code",
   "execution_count": 9,
   "metadata": {},
   "outputs": [
    {
     "name": "stdout",
     "output_type": "stream",
     "text": [
      "O maior valor é 45  e o menor valor é -5\n"
     ]
    }
   ],
   "source": [
    "lista = [1, 7, 10, 22, -5, 13, 45, 0, 2]\n",
    "\n",
    "def achar_maior_valor(lista):\n",
    "    maior = lista[0]\n",
    "    for index in range(1, len(lista)):\n",
    "        if lista[index] > maior:\n",
    "            maior = lista[index]\n",
    "    return maior        \n",
    "\n",
    "def achar_menor_valor(lista):\n",
    "    menor = lista[0]\n",
    "    for index in range(1, len(lista)):\n",
    "        if lista[index] < menor:\n",
    "            menor = lista[index]\n",
    "    return menor      \n",
    "\n",
    "print(f\"O maior valor é\", achar_maior_valor(lista), \" e o menor valor é\", achar_menor_valor(lista))      \n",
    "    "
   ]
  },
  {
   "cell_type": "markdown",
   "metadata": {},
   "source": [
    "2. Operações com Listas:\n",
    " Escreva um programa que receba 5 nomes de frutas do usuário e os armazene em uma lista. \n",
    "Depois, peça ao usuário que informe uma fruta e verifique se ela está na lista."
   ]
  },
  {
   "cell_type": "code",
   "execution_count": 11,
   "metadata": {},
   "outputs": [
    {
     "name": "stdout",
     "output_type": "stream",
     "text": [
      "A fruta camelo não está na lista.\n"
     ]
    }
   ],
   "source": [
    "\n",
    "lista_f = []\n",
    "\n",
    "for i in range(5):\n",
    "    adc_fruta = input(f\"Digite o nome da fruta {i+1}: \")\n",
    "    lista_f.append(adc_fruta)\n",
    "\n",
    "buscando_fruta = input(\"Qual fruta voê gostaria de verificar se esat na lista? \")\n",
    "\n",
    "if buscando_fruta in lista_f:\n",
    "    print(f\"A fruta {buscando_fruta} está na lista.\")\n",
    "else:\n",
    "    print(f\"A fruta {buscando_fruta} não está na lista.\")\n"
   ]
  },
  {
   "cell_type": "markdown",
   "metadata": {},
   "source": [
    "3. Manipulação de Listas com Laços:\n",
    " Crie uma lista de 10 elementos numéricos e escreva uma função que calcule a média dos \n",
    "números presentes na lista."
   ]
  },
  {
   "cell_type": "code",
   "execution_count": 13,
   "metadata": {},
   "outputs": [
    {
     "name": "stdout",
     "output_type": "stream",
     "text": [
      "A média é: 10\n"
     ]
    }
   ],
   "source": [
    "\n",
    "lista_de_numeros = [1, 7, 10, 22, -5, 13, 45, 0, 2]\n",
    "\n",
    "\n",
    "media_num = sum(lista_de_numeros) / len(lista_de_numeros)\n",
    "\n",
    "media_int = int(media_num)\n",
    "\n",
    "print(f\"A média é: {media_int}\")\n"
   ]
  },
  {
   "cell_type": "markdown",
   "metadata": {},
   "source": [
    "4. Listas Aninhadas:\n",
    " Crie uma lista de listas onde cada sublista deve conter três elementos: o nome de uma \n",
    "pessoa, sua idade e sua cidade. Imprima todas as informações no formato: \"Nome: [Nome], \n",
    "Idade: [Idade], Cidade: [Cidade]\"."
   ]
  },
  {
   "cell_type": "code",
   "execution_count": 14,
   "metadata": {},
   "outputs": [
    {
     "name": "stdout",
     "output_type": "stream",
     "text": [
      "Nome: Rosonatt, Idade: 29, Cidade: Saquarema\n",
      "Nome: Bruno, Idade: 27, Cidade: Vilatur\n",
      "Nome: Natalia Chrys, Idade: 26, Cidade: porto da roça\n",
      "Nome: Raian guiuison, Idade: 20, Cidade: Rio da areia\n",
      "Nome: Iguinho wagner, Idade: 27, Cidade:  casa dele\n"
     ]
    }
   ],
   "source": [
    "\n",
    "lista_pesssoas = [\n",
    "    [\"Rosonatt\", 29, \"Saquarema\"],\n",
    "    [\"Bruno\", 27, \"Vilatur\"],\n",
    "    [\"Natalia Chrys\", 26, \"porto da roça\"],\n",
    "    [\"Raian guiuison\", 20, \"Rio da areia\"],\n",
    "    [\"Iguinho wagner\", 27, \" casa dele\"]\n",
    "]\n",
    "for p in lista_pesssoas:\n",
    "    nome, idade, cidade = p\n",
    "    print(f\"Nome: {nome}, Idade: {idade}, Cidade: {cidade}\")\n"
   ]
  },
  {
   "cell_type": "markdown",
   "metadata": {},
   "source": [
    " 5.Remoção de Duplicatas:\n",
    " Escreva um programa que receba uma lista de números do usuário e remova todos os \n",
    "números duplicados, exibindo a lista resultante sem repetições."
   ]
  },
  {
   "cell_type": "code",
   "execution_count": 7,
   "metadata": {},
   "outputs": [
    {
     "name": "stdout",
     "output_type": "stream",
     "text": [
      "['1']\n",
      "['1', '2']\n",
      "['1', '2', '3']\n",
      "['4', '1', '2', '3']\n",
      "['3', '4', '1', '2', '5']\n"
     ]
    }
   ],
   "source": [
    "lista = []\n",
    "\n",
    "for i  in range (5):\n",
    "    dig_list = input(f' digite um numero {i+1}:')\n",
    "    lista.append(dig_list)\n",
    "    lista = list(set(lista))\n",
    "    print(lista)\n",
    "\n",
    "\n"
   ]
  },
  {
   "cell_type": "markdown",
   "metadata": {},
   "source": [
    "6. Criação e Acesso a Dicionários:\n",
    " Crie um dicionário que armazene os dias da semana como chaves e o número de horas \n",
    "trabalhadas em cada dia como valores. Solicite ao usuário a entrada dessas horas e depois \n",
    "calcule o total de horas trabalhadas na semana."
   ]
  },
  {
   "cell_type": "code",
   "execution_count": 1,
   "metadata": {},
   "outputs": [
    {
     "name": "stdout",
     "output_type": "stream",
     "text": [
      "A semana teve o o total de: 84.0 horas.\n"
     ]
    }
   ],
   "source": [
    "d_semanas = {\n",
    "    \"Segunda-feira\": 0,\n",
    "    \"Terça-feira\": 0,\n",
    "    \"Quarta-feira\": 0,\n",
    "    \"Quinta-feira\": 0,\n",
    "    \"Sexta-feira\": 0,\n",
    "    \"Sábado\": 0,\n",
    "    \"Domingo\": 0\n",
    "}\n",
    "\n",
    "for d in d_semanas:\n",
    "    horas = float(input(f\"Quantas horas de Trabalho {d}: \"))\n",
    "    d_semanas[d] = horas\n",
    "\n",
    "total_horas = sum(d_semanas.values())\n",
    "\n",
    "print(f\"A semana teve o o total de: {total_horas} horas.\")"
   ]
  },
  {
   "cell_type": "markdown",
   "metadata": {},
   "source": [
    "7. Atualização de Dicionários:\n",
    " Dada uma lista de nomes de alunos e suas respectivas notas em uma prova, crie um \n",
    "dicionário e permita que o usuário consulte e atualize a nota de um aluno específico"
   ]
  },
  {
   "cell_type": "code",
   "execution_count": 2,
   "metadata": {},
   "outputs": [
    {
     "name": "stdout",
     "output_type": "stream",
     "text": [
      "{'Ryan': 9.5, 'Bruno': 10, 'Igor': 10}\n",
      "Igor tem a nota igual à : 10\n",
      "O Aluno Nathalya não pode ser encontrado.\n",
      " A nota de Ryan foi atualizada para: 10\n"
     ]
    }
   ],
   "source": [
    "dicio_alunos = {}\n",
    "def n_aluno(info:list):\n",
    "    \n",
    "\n",
    "    for nome, nota in info:\n",
    "        dicio_alunos[nome] = nota\n",
    "    return dicio_alunos\n",
    "\n",
    "def consultar_aluno(dicionario:dict, nome:str):\n",
    "    if nome in dicionario:\n",
    "        print(f\"{nome} tem a nota igual à : {dicionario[nome]}\")\n",
    "    else: \n",
    "        print(f\"O Aluno {nome} não pode ser encontrado.\")\n",
    "\n",
    "    \n",
    "\n",
    "def att_nota(dicionario: dict, nome: str, nota:float):\n",
    "    if nome in dicionario:\n",
    "        dicionario[nome] = nota\n",
    "        print(f\" A nota de {nome} foi atualizada para: {nota}\")\n",
    "    else:\n",
    "        print(f\"O aluno {nome} não foi encontrado.\")\n",
    "\n",
    "\n",
    "alunos = [(\"Ryan\", 9.5), (\"Bruno\", 10), (\"Igor\", 10)]\n",
    "\n",
    "print(n_aluno(alunos))\n",
    "\n",
    "consultar_aluno(dicio_alunos, \"Igor\")\n",
    "consultar_aluno(dicio_alunos, \"Nathalya\")\n",
    "\n",
    "att_nota(dicio_alunos,\"Ryan\", 10)"
   ]
  },
  {
   "cell_type": "markdown",
   "metadata": {},
   "source": [
    "8. Iteração sobre Dicionários:\n",
    " Crie um dicionário que armazene a quantidade de produtos em estoque em uma loja. \n",
    "Escreva uma função que verifique se um produto está em estoque e quantas unidades estão \n",
    "disponíveis"
   ]
  },
  {
   "cell_type": "code",
   "execution_count": 3,
   "metadata": {},
   "outputs": [
    {
     "name": "stdout",
     "output_type": "stream",
     "text": [
      "O produto 'Teclado' está disponível e temos 130 unidades no estoque. \n",
      "O produto 'Pendrive' não pode ser encontrado .\n"
     ]
    }
   ],
   "source": [
    "estoque = {\n",
    "    \"Processador\": 850,\n",
    "    \"Mémoria\": 120,\n",
    "    \"Placa mãe\": 600,\n",
    "    \"Placa de video\": 1500,\n",
    "    \"Monitor\": 835,\n",
    "    \"SSD\": 180,\n",
    "    \"Gabinete\":190,\n",
    "    \"Teclado\": 130\n",
    "}\n",
    "\n",
    "def veri_estoque(produto:str):\n",
    "    if produto in estoque:\n",
    "        unidades = estoque[produto]\n",
    "    \n",
    "        if unidades > 0 :\n",
    "            print(f\"O produto '{produto}' está disponível e temos {unidades} unidades no estoque. \")\n",
    "        else:    \n",
    "            print(f\"O produto '{produto}' não está disponível no estoque. \")\n",
    "    else:\n",
    "        print(f\"O produto '{produto}' não pode ser encontrado .\")\n",
    "\n",
    "veri_estoque(\"Teclado\")\n",
    "veri_estoque(\"Pendrive\")"
   ]
  },
  {
   "cell_type": "markdown",
   "metadata": {},
   "source": [
    "9. Conversão entre Listas e Dicionários:\n",
    " Crie duas listas: uma com nomes de países e outra com suas respectivas capitais. Converta \n",
    "essas duas listas em um dicionário, onde o país é a chave e a capital é o valor.\n"
   ]
  },
  {
   "cell_type": "code",
   "execution_count": 4,
   "metadata": {},
   "outputs": [
    {
     "name": "stdout",
     "output_type": "stream",
     "text": [
      "{'Coreia do Sul': 'Seul', 'Argentina': 'Buenos Aires', 'Canadá': 'Otava', 'Japão': 'Tóquio', 'Brasil': 'Brasilia', 'México': 'Cidade do México'}\n"
     ]
    }
   ],
   "source": [
    "paises = [\"Coreia do Sul\", \"Argentina\", \"Canadá\", \"Japão\", \"Brasil\", \"México\"]\n",
    "capitais = [\"Seul\", \"Buenos Aires\",  \"Otava\", \"Tóquio\", \"Brasilia\", \"Cidade do México\"]\n",
    "\n",
    "paises_e_capitais = dict(zip(paises, capitais))\n",
    "\n",
    "print(paises_e_capitais)"
   ]
  },
  {
   "cell_type": "markdown",
   "metadata": {},
   "source": [
    "10. Dicionário Aninhado:\n",
    " Crie um dicionário para armazenar informações sobre estudantes, onde cada chave é o \n",
    "nome de um estudante e o valor é outro dicionário contendo suas notas nas disciplinas \n",
    "\"Matemática\", \"Português\" e \"Ciências\". Permita que o usuário acesse e altere as notas dos \n",
    "alunos"
   ]
  },
  {
   "cell_type": "code",
   "execution_count": 5,
   "metadata": {},
   "outputs": [
    {
     "name": "stdout",
     "output_type": "stream",
     "text": [
      "As notas do estudante Igor são: \n",
      "Matemática : 7.0\n",
      "Português : 6.0\n",
      "Ciências : 5.0\n",
      "A nota do estudante Gioliano na materia de Português atualizou: 9.5\n"
     ]
    }
   ],
   "source": [
    "estudantes = {\n",
    "    \"Igor\": {\"Matemática\": 7.0, \"Português\": 6.0, \"Ciências\": 5.0},\n",
    "    \"Bruno\": {\"Matemática\": 9.0, \"Português\": 8.0, \"Ciências\": 7.5},\n",
    "    \"João\": {\"Matemática\": 8.0, \"Português\": 9.3, \"Ciências\": 6.7},\n",
    "    \"Gioliano\": {\"Matemática\": 6.0, \"Português\": 7.0, \"Ciências\": 8.5}\n",
    "}\n",
    "\n",
    "def c_nota(estudante:str):\n",
    "    if estudante in estudantes:\n",
    "        print(f\"As notas do estudante {estudante} são: \")\n",
    "        for Materia, nota in estudantes[estudante].items():\n",
    "            print(f\"{Materia} : {nota}\")\n",
    "            \n",
    "    else:\n",
    "        print(f\"O estudante {estudante} não foi encontrado.\")\n",
    "\n",
    "def nova_nota (nome:str, materia:str, nota:float):\n",
    "    if nome in estudantes:\n",
    "        if materia in estudantes[nome]:\n",
    "\n",
    "            estudantes[nome][materia] = nota\n",
    "            print(f\"A nota do estudante {nome} na materia de {materia} atualizou: {nota}\")\n",
    "        \n",
    "        else:\n",
    "            print(f\"A materia {materia} não possui nota lançadada ou não foi encontrada .\")\n",
    "    \n",
    "    else:\n",
    "        print(f\"O estudante {nome} não foi encontrado.\")\n",
    "\n",
    "\n",
    "\n",
    "c_nota(\"Igor\")\n",
    "nova_nota(\"Gioliano\",\"Português\", 9.5)"
   ]
  },
  {
   "cell_type": "markdown",
   "metadata": {},
   "source": [
    "Exercícios de Funções"
   ]
  },
  {
   "cell_type": "markdown",
   "metadata": {},
   "source": [
    "11. Função com Listas:\n",
    " Escreva uma função que receba uma lista de números e retorne a soma de todos os \n",
    "números pares dessa lista"
   ]
  },
  {
   "cell_type": "code",
   "execution_count": 6,
   "metadata": {},
   "outputs": [
    {
     "name": "stdout",
     "output_type": "stream",
     "text": [
      "A soma de todos os números pares da lista é : 290\n"
     ]
    }
   ],
   "source": [
    "lista_n = [9, 67, 212, 54, 1, 32, 77, -8]\n",
    "\n",
    "def somando_numeros_p(lista:list):\n",
    "    numeros_pares = [numero for numero in lista if numero % 2== 0]\n",
    "    return sum(numeros_pares)\n",
    "\n",
    "\n",
    "print(f\"A soma de todos os números pares da lista é : {somando_numeros_p(lista_n)}\")"
   ]
  },
  {
   "cell_type": "markdown",
   "metadata": {},
   "source": [
    "12. Função que Trabalha com Dicionários:\n",
    " Escreva uma função que receba um dicionário contendo nomes de produtos como chaves e \n",
    "seus preços como valores. A função deve retornar o nome do produto mais caro."
   ]
  },
  {
   "cell_type": "code",
   "execution_count": 7,
   "metadata": {},
   "outputs": [
    {
     "name": "stdout",
     "output_type": "stream",
     "text": [
      "O produto com o maior valor é casaco.\n"
     ]
    }
   ],
   "source": [
    "valor_produto = {\n",
    "    \"camisa\": 25.00,\n",
    "    \"calça\": 95.00,\n",
    "    \"casaco\": 155.00,\n",
    "    \"Meias\": 5.00,\n",
    "    \"Sapato\": 130.00,\n",
    "}\n",
    "\n",
    "def maior_valor(prod_lista:dict):\n",
    "    Preco_alto = max(prod_lista, key= prod_lista.get)\n",
    "\n",
    "    print(f\"O produto com o maior valor é {Preco_alto}.\")\n",
    "\n",
    "maior_valor(valor_produto)"
   ]
  },
  {
   "cell_type": "markdown",
   "metadata": {},
   "source": [
    "13. Função com Parâmetros Opcionais:\n",
    " Crie uma função que recebe uma lista e um número opcional. Se o número for fornecido, a \n",
    "função deve retornar a lista multiplicada por esse número. Se não for fornecido, a função deve \n",
    "retornar a lista original."
   ]
  },
  {
   "cell_type": "code",
   "execution_count": 8,
   "metadata": {},
   "outputs": [
    {
     "name": "stdout",
     "output_type": "stream",
     "text": [
      "A lista  [4, 9, 2, 79, 1] multiplica por 9 é igual à: \n",
      "[36, 81, 18, 711, 9]\n",
      "A lista  [4, 9, 2, 79, 1] multiplica por 4 é igual à: \n",
      "[16, 36, 8, 316, 4]\n"
     ]
    }
   ],
   "source": [
    "n_opicional = [4, 9, 2, 79, 1]\n",
    "\n",
    "def lista_multiplicada(lista:list, multiplicando = 4):\n",
    "    lista_multiplicada = [numero * multiplicando for numero in lista]\n",
    "    \n",
    "    return lista_multiplicada\n",
    "\n",
    "n_listaa = lista_multiplicada(n_opicional, 9)\n",
    "lista_nova = lista_multiplicada(n_opicional)\n",
    "\n",
    "print(f\"A lista  {n_opicional} multiplica por 9 é igual à: \\n{n_listaa}\")\n",
    "print(f\"A lista  {n_opicional} multiplica por 4 é igual à: \\n{lista_nova}\")"
   ]
  },
  {
   "cell_type": "markdown",
   "metadata": {},
   "source": [
    "14. Função que Modifica Dicionários:\n",
    " Escreva uma função que receba um dicionário representando um estoque de produtos \n",
    "(chave: nome do produto, valor: quantidade em estoque) e um produto vendido (nome do \n",
    "produto e quantidade vendida). A função deve atualizar o estoque conforme a venda e \n",
    "informar se a quantidade vendida excede o estoque disponível"
   ]
  },
  {
   "cell_type": "code",
   "execution_count": 9,
   "metadata": {},
   "outputs": [
    {
     "name": "stdout",
     "output_type": "stream",
     "text": [
      "Venda feita com sucesso: 5 unidades de Meias vendidas. \n",
      "estoque foi atualizado com 0 unidades restantes.\n",
      "Venda feita com sucesso: 95 unidades de calça vendidas. \n",
      "estoque foi atualizado com 0 unidades restantes.\n",
      "Venda feita com sucesso: 130 unidades de Sapato vendidas. \n",
      "estoque foi atualizado com 0 unidades restantes.\n"
     ]
    }
   ],
   "source": [
    "produtos_e = {\n",
    "   \"camisa\": 25,\n",
    "    \"calça\": 95,\n",
    "    \"casaco\": 155,\n",
    "    \"Meias\": 5,\n",
    "    \"Sapato\": 130,\n",
    "}\n",
    "\n",
    "def att_estoque(estoque:dict, produto:str, quantidade: int):\n",
    "    if produto in estoque:\n",
    "        p_estoque = estoque[produto]\n",
    "        if quantidade <= p_estoque:\n",
    "            estoque[produto] -= quantidade\n",
    "            print(f\"Venda feita com sucesso: {quantidade} unidades de {produto} vendidas. \\nestoque foi atualizado com {estoque[produto]} unidades restantes.\")\n",
    "        \n",
    "        else:\n",
    "            print(f\" o numero excede a quantidade de unidades que o estoque possui do {produto} .\")\n",
    "            print(f\" o  produto {produto} no estoque: {estoque[produto]} unidades.\")\n",
    "    \n",
    "    else:\n",
    "        print(f\"Produto '{produto}' não foi encontrado ou não existe  no estoque.\")\n",
    "\n",
    "att_estoque(produtos_e, \"Meias\", 5)\n",
    "att_estoque(produtos_e, \"calça\", 95)\n",
    "att_estoque(produtos_e, \"Sapato\", 130)"
   ]
  },
  {
   "cell_type": "markdown",
   "metadata": {},
   "source": [
    "15. Combinação de Listas, Dicionários e Funções:\n",
    " Escreva uma função que recebe uma lista de dicionários, onde cada dicionário representa \n",
    "um estudante com seu nome e uma lista de notas. A função deve calcular a média de cada \n",
    "estudante e retornar um novo dicionário com os nomes dos estudantes como chaves e suas \n",
    "médias como valores"
   ]
  },
  {
   "cell_type": "code",
   "execution_count": 10,
   "metadata": {},
   "outputs": [
    {
     "name": "stdout",
     "output_type": "stream",
     "text": [
      "A média dos estudantes: {'Gioliano': 9.17, 'Igor': 6.5, 'Joáo': 6.0, 'Bruno': 2.83}\n"
     ]
    }
   ],
   "source": [
    "estudantes =[\n",
    "    {\"Nome\": \"Gioliano\", \"notas\": [8.5, 9.5, 9.5]},\n",
    "    {\"Nome\": \"Igor\", \"notas\": [8.5, 5.0, 6.0]},\n",
    "    {\"Nome\": \"Joáo\", \"notas\": [8.5, 5.5, 4.0]},\n",
    "    {\"Nome\": \"Bruno\", \"notas\": [3.0, 1.5, 4.0]},\n",
    "]\n",
    "\n",
    "def estudantes_media(lista_estudantes: list):\n",
    "    medias = {}\n",
    "\n",
    "    for estudante in lista_estudantes:\n",
    "        nome = estudante[\"Nome\"]\n",
    "        notas = estudante[\"notas\"]\n",
    "        media = round(sum(notas)/len(notas),2)\n",
    "        medias[nome] = media\n",
    "\n",
    "    return medias\n",
    "\n",
    "print(f\"A média dos estudantes: {estudantes_media(estudantes)}\")"
   ]
  },
  {
   "cell_type": "markdown",
   "metadata": {},
   "source": [
    "16. Funções Recursivas:\n",
    " Escreva uma função de busca binária recursiva\n"
   ]
  },
  {
   "cell_type": "code",
   "execution_count": 11,
   "metadata": {},
   "outputs": [
    {
     "name": "stdout",
     "output_type": "stream",
     "text": [
      "\n",
      "  o indice da busca é 4\n",
      "\n"
     ]
    }
   ],
   "source": [
    "def b_recursiva(lista, key:int, comeco:int, final:int):\n",
    "    if comeco > final:\n",
    "        return -1 \n",
    "\n",
    "    metade = (comeco + final) // 2\n",
    "\n",
    "    if lista[metade] == key:\n",
    "        return metade\n",
    "    elif lista[metade] < key:\n",
    "        return b_recursiva(lista, key, metade + 1, final)\n",
    "    else:\n",
    "        return b_recursiva(lista, key, comeco, metade - 1)\n",
    "\n",
    "\n",
    "lista = [2, 6, 12, 22, 30, 50, 65, 80, 85, 110]\n",
    "resultado = b_recursiva(lista, 30, 0, len(lista) - 1)\n",
    "\n",
    "if resultado == -1:\n",
    "    print('\\ninfelizmente a chave não pode ser  encontrada.\\n')\n",
    "else:\n",
    "    print(f'\\n  o indice da busca é {resultado}\\n')"
   ]
  }
 ],
 "metadata": {
  "kernelspec": {
   "display_name": "Python 3",
   "language": "python",
   "name": "python3"
  },
  "language_info": {
   "codemirror_mode": {
    "name": "ipython",
    "version": 3
   },
   "file_extension": ".py",
   "mimetype": "text/x-python",
   "name": "python",
   "nbconvert_exporter": "python",
   "pygments_lexer": "ipython3",
   "version": "3.12.6"
  }
 },
 "nbformat": 4,
 "nbformat_minor": 2
}
