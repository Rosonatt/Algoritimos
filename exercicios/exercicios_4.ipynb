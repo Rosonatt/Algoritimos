{
 "cells": [
  {
   "cell_type": "markdown",
   "metadata": {},
   "source": [
    "1.Tratamento de exceções básicas: Escreva um programa que peça ao usuário\n",
    "dois números e faça a divisão do primeiro pelo segundo. Se o usuário inserir\n",
    "um valor inválido ou tentar dividir por zero, o programa deve exibir uma\n",
    "mensagem de erro apropriada"
   ]
  },
  {
   "cell_type": "code",
   "execution_count": 1,
   "metadata": {},
   "outputs": [
    {
     "name": "stdout",
     "output_type": "stream",
     "text": [
      "O resultado da divisão é: 1.0\n"
     ]
    }
   ],
   "source": [
    "def divisao():\n",
    "    try:\n",
    "        num_1 = float(input(\"Digite o primeiro número: \"))\n",
    "        num_2 = float(input(\"Digite o segundo número: \"))\n",
    "        resultado = num_1 / num_2\n",
    "        print(f\"O resultado da divisão é: {resultado}\")\n",
    "    except ValueError:\n",
    "        print(f\"Erro: Por favor, insira apenas números válidos.\")\n",
    "    except ZeroDivisionError:\n",
    "        print(f\"Erro: Não é possível dividir por zero.\")\n",
    "\n",
    "divisao()"
   ]
  },
  {
   "cell_type": "markdown",
   "metadata": {},
   "source": [
    "2.Capturando exceções múltiplas: Crie um programa que peça ao usuário o\n",
    "nome de uma cor e mostre seu valor em RGB de acordo com um dicionário\n",
    "pré-definido. O programa deve tratar exceções caso o nome da cor não exista\n",
    "no dicionário.\n",
    "cores = {'vermelho': (255, 0, 0), 'verde': (0, 255, 0), 'azul':\n",
    "(0, 0, 255)}"
   ]
  },
  {
   "cell_type": "code",
   "execution_count": null,
   "metadata": {},
   "outputs": [],
   "source": [
    "def cor_rgb():\n",
    "    cores = {'vermelho': (255, 0, 0), 'verde': (0, 255, 0), 'azul': (0, 0, 255)}\n",
    "    try:\n",
    "        cor = input(\"Digite o nome de uma cor (vermelho, verde ou azul): \").lower()\n",
    "        rgb = cores[cor]\n",
    "        print(f\"O valor RGB para {cor} é: {rgb}\")\n",
    "    except KeyError:\n",
    "        print(f\"Erro: A cor especificada não está no dicionário.\")\n",
    "\n",
    "cor_rgb()"
   ]
  },
  {
   "cell_type": "markdown",
   "metadata": {},
   "source": [
    "3.Bloco else e finally: Escreva um programa que solicite um número ao\n",
    "usuário. Se o número for maior que 10, exiba uma mensagem dizendo que o\n",
    "número é válido. Utilize o bloco else para imprimir que o programa foi\n",
    "executado com sucesso, e o bloco finally para imprimir \"Programa\n",
    "encerrado\"."
   ]
  },
  {
   "cell_type": "code",
   "execution_count": null,
   "metadata": {},
   "outputs": [],
   "source": [
    "def verificando_numero():\n",
    "    try:\n",
    "        numero = int(input(f\"Digite um número: \"))\n",
    "        if numero > 10:\n",
    "            print(f\"O número é válido (maior que 10).\")\n",
    "    except ValueError:\n",
    "        print(f\"Erro: Por favor, insira um número inteiro válido.\")\n",
    "    else:\n",
    "        print(f\"O programa foi executado com sucesso.\")\n",
    "    finally:\n",
    "        print(f\"Programa encerrado.\")\n",
    "\n",
    "verificando_numero()"
   ]
  },
  {
   "cell_type": "markdown",
   "metadata": {},
   "source": [
    "4.Exceções personalizadas: Escreva uma função que verifica se uma senha\n",
    "possui no mínimo 8 caracteres e pelo menos um número. Se a senha não\n",
    "atender aos requisitos, levante uma exceção com uma mensagem\n",
    "personalizada. Trate a exceção e mostre a mensagem ao usuário."
   ]
  },
  {
   "cell_type": "code",
   "execution_count": null,
   "metadata": {},
   "outputs": [],
   "source": [
    "def verificando_senha(senha):\n",
    "    if len(senha) < 8 or not any(c in '0123456789' for c in senha):\n",
    "        raise ValueError(f\"A senha deve ter pelo menos 8 caracteres e conter pelo menos um número.\")\n",
    "\n",
    "def testando_senha():\n",
    "    try:\n",
    "        senha = input(f\"Digite uma senha: \")\n",
    "        verificando_senha(senha)\n",
    "        print(f\"Senha válida!\")\n",
    "    except ValueError as e:\n",
    "        print(f\"Erro: {str(e)}\")\n",
    "testando_senha()"
   ]
  },
  {
   "cell_type": "markdown",
   "metadata": {},
   "source": [
    "5.Simulação de transações: Crie um programa que simule uma transferência\n",
    "bancária. Peça ao usuário o saldo da conta e o valor da transferência. Caso o\n",
    "saldo seja insuficiente, levante uma exceção do tipo ValueError com a\n",
    "mensagem \"Saldo insuficiente\". Trate a exceção adequadamente e informe o\n",
    "usuário."
   ]
  },
  {
   "cell_type": "code",
   "execution_count": null,
   "metadata": {},
   "outputs": [],
   "source": [
    "def trans_bancaria():\n",
    "    try:\n",
    "        saldo = float(input(f\"Digite o saldo da conta: \"))\n",
    "        valor_transferido = float(input(f\"Digite o valor da transferência: \"))\n",
    "        \n",
    "        if valor_transferido > saldo:\n",
    "            raise ValueError(f\"Saldo insuficiente\")\n",
    "        \n",
    "        novo_saldo = saldo - valor_transferido\n",
    "        print(f\"Transferência realizada com sucesso. Novo saldo: R$ {novo_saldo:.2f}\")\n",
    "    except ValueError as e:\n",
    "        if str(e) == \"Saldo insuficiente\":\n",
    "            print(f\"Erro: {str(e)}. Não foi possível realizar a transferência.\")\n",
    "        else:\n",
    "            print(f\"Erro: Por favor, insira valores numéricos válidos.\")\n",
    "\n",
    "trans_bancaria()"
   ]
  }
 ],
 "metadata": {
  "kernelspec": {
   "display_name": "Python 3",
   "language": "python",
   "name": "python3"
  },
  "language_info": {
   "codemirror_mode": {
    "name": "ipython",
    "version": 3
   },
   "file_extension": ".py",
   "mimetype": "text/x-python",
   "name": "python",
   "nbconvert_exporter": "python",
   "pygments_lexer": "ipython3",
   "version": "3.12.6"
  }
 },
 "nbformat": 4,
 "nbformat_minor": 2
}
