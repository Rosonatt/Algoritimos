{
 "cells": [
  {
   "cell_type": "markdown",
   "metadata": {},
   "source": [
    "1. Implemente uma função recursiva que calcule a potência de um número (base^expoente)."
   ]
  },
  {
   "cell_type": "code",
   "execution_count": null,
   "metadata": {},
   "outputs": [],
   "source": [
    "def calcular_potencia(base, expoente):\n",
    "    if expoente == 0:\n",
    "        return 1\n",
    "    elif  expoente < 0 :\n",
    "        return 1 / calcular_potencia(base, expoente)\n",
    "    else:\n",
    "        return base * calcular_potencia(base, expoente -1)\n",
    "resultado =  calcular_potencia (3,2)\n",
    "print(resultado)"
   ]
  },
  {
   "cell_type": "markdown",
   "metadata": {},
   "source": [
    "2. Crie uma função recursiva para calcular o n-ésimo termo da sequência de \n",
    "Fibonacci.Lembre-se de que a sequência começa com 0 e 1."
   ]
  },
  {
   "cell_type": "code",
   "execution_count": 8,
   "metadata": {},
   "outputs": [
    {
     "name": "stdout",
     "output_type": "stream",
     "text": [
      "O 10-ésimo termo  é: 55\n"
     ]
    }
   ],
   "source": [
    "def sequencia_fibonacci(f):\n",
    "    if f <= 1:\n",
    "        return f\n",
    "    return sequencia_fibonacci(f - 1) + sequencia_fibonacci(f - 2)\n",
    "\n",
    "f = 10\n",
    "print(f\"O {f}-ésimo termo  é: {sequencia_fibonacci(f)}\")\n"
   ]
  },
  {
   "cell_type": "markdown",
   "metadata": {},
   "source": [
    "3.Escreva uma função recursiva que conte quantos dígitos um número tem."
   ]
  },
  {
   "cell_type": "code",
   "execution_count": 5,
   "metadata": {},
   "outputs": [
    {
     "name": "stdout",
     "output_type": "stream",
     "text": [
      "4\n"
     ]
    }
   ],
   "source": [
    "def contar_dig(n):\n",
    "\n",
    "    if -10 < n < 10:\n",
    "        return 1\n",
    "    \n",
    "    return 1 + contar_dig(n // 10)\n",
    "\n",
    "print(contar_dig(1995))  \n",
    "      \n"
   ]
  },
  {
   "cell_type": "markdown",
   "metadata": {},
   "source": [
    "4. Escreva uma função recursiva que verifique se uma string é um palíndromo"
   ]
  },
  {
   "cell_type": "code",
   "execution_count": 9,
   "metadata": {},
   "outputs": [
    {
     "name": "stdout",
     "output_type": "stream",
     "text": [
      "False\n",
      "True\n",
      "True\n",
      "False\n",
      "True\n"
     ]
    }
   ],
   "source": [
    "def string_palindromo(f):\n",
    "  \n",
    "    if len(f) <= 1:\n",
    "        return True\n",
    "\n",
    "\n",
    "    if f[0] != f[-1]:\n",
    "        return False\n",
    "\n",
    "    return string_palindromo(f[1:-1])\n",
    "\n",
    "\n",
    "print(string_palindromo(\"macaco\"))  \n",
    "print(string_palindromo(\"esse\")) \n",
    "print(string_palindromo(\"arara\"))  \n",
    "print(string_palindromo(\"jogo\"))\n",
    "print(string_palindromo(\"ovo\"))\n",
    "\n"
   ]
  },
  {
   "cell_type": "markdown",
   "metadata": {},
   "source": [
    "4.1. Escreva uma função recursiva que verifique se uma string é um palíndromo"
   ]
  },
  {
   "cell_type": "code",
   "execution_count": null,
   "metadata": {},
   "outputs": [],
   "source": [
    "def string_palindromo(f):\n",
    "  \n",
    "    if len(f) <= 1:\n",
    "        return True\n",
    "\n",
    "    if f[0] != f[-1]:\n",
    "        return False\n",
    "\n",
    "    return string_palindromo(f[1:-1])\n",
    "\n",
    "palindromo = input(\"Digite uma string para verificar se é um palíndromo: \")\n",
    "\n",
    "\n",
    "if string_palindromo(palindromo):\n",
    "    print(f'\"{palindromo}\" é um palíndromo.')\n",
    "else:\n",
    "    print(f'\"{palindromo}\" não é um palíndromo.')\n",
    "\n"
   ]
  }
 ],
 "metadata": {
  "kernelspec": {
   "display_name": "Python 3",
   "language": "python",
   "name": "python3"
  },
  "language_info": {
   "codemirror_mode": {
    "name": "ipython",
    "version": 3
   },
   "file_extension": ".py",
   "mimetype": "text/x-python",
   "name": "python",
   "nbconvert_exporter": "python",
   "pygments_lexer": "ipython3",
   "version": "3.12.6"
  }
 },
 "nbformat": 4,
 "nbformat_minor": 2
}
