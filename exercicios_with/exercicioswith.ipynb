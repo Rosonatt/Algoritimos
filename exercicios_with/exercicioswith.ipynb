{
 "cells": [
  {
   "cell_type": "markdown",
   "metadata": {},
   "source": [
    "1.   Ler um Arquivo de Texto   - Crie um arquivo de texto chamado `mensagem.txt` com algumas linhas de texto. -\n",
    " Escreva um programa que leia todo o conteúdo desse arquivo e o exiba no console."
   ]
  },
  {
   "cell_type": "code",
   "execution_count": null,
   "metadata": {},
   "outputs": [
    {
     "name": "stdout",
     "output_type": "stream",
     "text": [
      "Nem todos os dias sÃ£o bons, mas hÃ¡ algo bom em cada dia.\n"
     ]
    }
   ],
   "source": [
    "def ler_arquivo(mensagem):\n",
    "    try:\n",
    "        with open(mensagem, 'r') as arquivo:\n",
    "            conteudo = arquivo.read()\n",
    "        print(conteudo)\n",
    "    except FileNotFoundError:\n",
    "        print(f\"O arquivo '{mensagem}' não foi encontrado.\")\n",
    "\n",
    "ler_arquivo('mensagem.txt')\n",
    "\n"
   ]
  },
  {
   "cell_type": "markdown",
   "metadata": {},
   "source": [
    "2.   Escrever em um Arquivo de Texto   - Crie um programa que peça ao usuário para digitar uma frase.\n",
    " - Escreva essa frase em um novo arquivo chamado `frase_usuario.txt`."
   ]
  },
  {
   "cell_type": "code",
   "execution_count": 5,
   "metadata": {},
   "outputs": [
    {
     "name": "stdout",
     "output_type": "stream",
     "text": [
      "A frase foi salva no arquivo 'frase_escrita.txt'.\n"
     ]
    }
   ],
   "source": [
    "def escrever_frase():\n",
    "    frase = input(\"Digite uma frase por favor: \")\n",
    "\n",
    "    with open('frase_escrita.txt', 'w') as arquivo:\n",
    "        arquivo.write(frase)\n",
    "    \n",
    "    print(\"A frase foi salva no arquivo 'frase_escrita.txt'.\")\n",
    "escrever_frase()\n"
   ]
  },
  {
   "cell_type": "markdown",
   "metadata": {},
   "source": [
    "3.   Contar Linhas e Palavras   - Escreva um programa que leia o conteúdo de um arquivo `texto.txt`. - \n",
    "Conte quantas linhas e palavras o arquivo possui e exiba esses valores no console."
   ]
  },
  {
   "cell_type": "code",
   "execution_count": 7,
   "metadata": {},
   "outputs": [
    {
     "name": "stdout",
     "output_type": "stream",
     "text": [
      "O arquivo 'texto.txt' contém:\n",
      "- 2 linhas\n",
      "- 43 palavras\n"
     ]
    }
   ],
   "source": [
    "def contar(texto):\n",
    "    try:\n",
    "        with open(texto, 'r') as arquivo:\n",
    "            linhas = arquivo.readlines()\n",
    "            \n",
    "        n_linhas = len(linhas)\n",
    "    \n",
    "        n_palavras = sum(len(linha.split()) for linha in linhas) \n",
    "\n",
    "        print(f\"O arquivo '{texto}' contém:\")\n",
    "        print(f\"- {n_linhas} linhas\")\n",
    "        print(f\"- {n_palavras} palavras\")\n",
    "    \n",
    "    except FileNotFoundError:\n",
    "        print(f\"O arquivo '{texto}' não foi encontrado.\")\n",
    "        \n",
    "contar('texto.txt')\n"
   ]
  },
  {
   "cell_type": "markdown",
   "metadata": {},
   "source": [
    "4.   Copiar Conteúdo de um Arquivo   - Escreva um programa que leia o conteúdo de um arquivo chamado `origem.txt` e o copie \n",
    "para um novo arquivo chamado `copia.txt`. "
   ]
  },
  {
   "cell_type": "code",
   "execution_count": 9,
   "metadata": {},
   "outputs": [
    {
     "name": "stdout",
     "output_type": "stream",
     "text": [
      "Conteúdo copiado de 'texto.txt' para 'copia.txt' com sucesso.\n"
     ]
    }
   ],
   "source": [
    "def criar_copia(texto_original, copia_do_texto):\n",
    "\n",
    "    try:\n",
    "        with open(texto_original, 'r') as origem:\n",
    "            conteudo = origem.read()\n",
    "        \n",
    "        with open(copia_do_texto, 'w') as copia:\n",
    "            copia.write(conteudo)\n",
    "        \n",
    "        print(f\"Conteúdo copiado de '{texto_original}' para '{copia_do_texto}' com sucesso.\")\n",
    "    \n",
    "    except FileNotFoundError:\n",
    "        print(f\"O arquivo '{texto_original}' não foi encontrado.\")\n",
    "\n",
    "criar_copia('texto.txt', 'copia.txt')\n"
   ]
  },
  {
   "cell_type": "markdown",
   "metadata": {},
   "source": [
    "5.   Adicionar Conteúdo a um Arquivo   - Escreva um programa que peça ao usuário para digitar uma frase. -\n",
    " Adicione essa frase ao final de um arquivo existente chamado `anotacoes.txt`. "
   ]
  },
  {
   "cell_type": "code",
   "execution_count": 11,
   "metadata": {},
   "outputs": [
    {
     "name": "stdout",
     "output_type": "stream",
     "text": [
      "A frase foi adicionada ao arquivo 'anotacoes.txt'.\n"
     ]
    }
   ],
   "source": [
    "def anotacoes():\n",
    "    frase = input(\"Digite uma frase para adicionar ao arquivo: \")\n",
    "    \n",
    "    with open('anotacoes.txt', 'a') as arquivo:\n",
    "        arquivo.write(frase + '\\n')\n",
    "    \n",
    "    print(\"A frase foi adicionada ao arquivo 'anotacoes.txt'.\")\n",
    "\n",
    "anotacoes()\n"
   ]
  },
  {
   "cell_type": "markdown",
   "metadata": {},
   "source": [
    "6.   Substituir Palavras em um Arquivo   - Crie um programa que leia o conteúdo de um arquivo `texto.txt`. -\n",
    " Substitua todas as ocorrências de uma palavra (por exemplo, \"Python\") por outra (por \n",
    "exemplo, \"programação\") e salve o conteúdo alterado em um novo arquivo chamado \n",
    "`texto_modificado.txt`."
   ]
  },
  {
   "cell_type": "code",
   "execution_count": 2,
   "metadata": {},
   "outputs": [
    {
     "name": "stdout",
     "output_type": "stream",
     "text": [
      "Todas as ocorrências de 'Python' foram substituídas por 'Java' no arquivo 'texto_modificado.txt'.\n"
     ]
    }
   ],
   "source": [
    "\n",
    "def substituir_palavra(nome, pyhton, java):\n",
    "    with open(nome, 'r') as arquivo:\n",
    "        conteudo = arquivo.read()\n",
    "    conteudo_modificado = conteudo.replace(pyhton, java)\n",
    "\n",
    "    with open('texto_modificado.txt', 'w') as arquivo_modificado:\n",
    "        arquivo_modificado.write(conteudo_modificado)\n",
    "    \n",
    "    print(f\"Todas as ocorrências de '{pyhton}' foram substituídas por '{java}' no arquivo 'texto_modificado.txt'.\")\n",
    "substituir_palavra('texto.txt', 'Python', 'Java')\n"
   ]
  },
  {
   "cell_type": "markdown",
   "metadata": {},
   "source": [
    "7.   Listar Arquivos em um Diretório   - Escreva um programa que liste todos os arquivos e diretórios de um determinado diretório \n",
    "(dica: use `os.listdir()`). - Peça ao usuário para informar o caminho do diretório desejado. "
   ]
  },
  {
   "cell_type": "code",
   "execution_count": 1,
   "metadata": {},
   "outputs": [
    {
     "name": "stdout",
     "output_type": "stream",
     "text": [
      "O diretório 'Documentos' não foi encontrado.\n"
     ]
    }
   ],
   "source": [
    "import os\n",
    "\n",
    "def listar_diretorio():\n",
    "    diretorio = input(\"Informe o caminho do diretório: \")\n",
    "    \n",
    "    try:\n",
    "        itens = os.listdir(diretorio)\n",
    "        \n",
    "        print(f\"\\nConteúdo do diretório '{diretorio}':\")\n",
    "        for item in itens:\n",
    "            print(item)\n",
    "    \n",
    "    except FileNotFoundError:\n",
    "        print(f\"O diretório '{diretorio}' não foi encontrado.\")\n",
    "    except NotADirectoryError:\n",
    "        print(f\"O caminho '{diretorio}' não é um diretório válido.\")\n",
    "    except PermissionError:\n",
    "        print(f\"Permissão negada para acessar o diretório '{diretorio}'.\")\n",
    "\n",
    "listar_diretorio()\n"
   ]
  },
  {
   "cell_type": "markdown",
   "metadata": {},
   "source": [
    "8.   Combinar Vários Arquivos   - Crie um programa que leia o conteúdo de três arquivos (`parte1.txt`, `parte2.txt` e \n",
    "`parte3.txt`). - Combine o conteúdo dos três arquivos em um novo arquivo chamado `texto_completo.txt`. "
   ]
  },
  {
   "cell_type": "code",
   "execution_count": 3,
   "metadata": {},
   "outputs": [
    {
     "name": "stdout",
     "output_type": "stream",
     "text": [
      "\"Bullying é uma palavra que se originou na língua inglesa. “Bully” significa “valentão”, e o sufixo “ing” representa uma ação contínua.\n",
      " A palavra bullying designa um quadro de agressões contínuas, repetitivas, com características de perseguição do agressor contra a vítima,\n",
      " não podendo caracterizar uma agressão isolada, resultante de uma briga.\"\n",
      "\"As agressões podem ser de ordem verbal, física e psicológica, comumente acontecendo as três ao mesmo tempo\n",
      " As vítimas são intimidadas, expostas e ridicularizadas. São chamadas por apelidos vexatórios e sofrem variados quadros de agressão com base em suas características físicas,\n",
      " seus hábitos, sua sexualidade e sua maneira de ser.\"\n",
      "\n",
      "\"As vítimas de bullying podem sofrer agressões de uma pessoa isolada ou de um grupo. \n",
      "Esse grupo pode atuar apenas como “espectadores inertes” da violência, que indiretamente contribuem para a continuidade da agressão.\"\n",
      "\n"
     ]
    }
   ],
   "source": [
    "with open('parte1.txt', 'r', encoding='utf8') as arquivo:\n",
    "    parte1 = arquivo.read()\n",
    "\n",
    "with open('parte2.txt', 'r', encoding='utf8') as arquivo:\n",
    "    parte2 = arquivo.read()\n",
    "\n",
    "with open('parte3.txt', 'r', encoding='utf8') as arquivo:\n",
    "    parte3 = arquivo.read()\n",
    "\n",
    "with open('texto_completo.txt', 'w', encoding='utf8') as arquivo:\n",
    "    arquivo.write(parte1)\n",
    "    arquivo.write('\\n' + parte2)\n",
    "    arquivo.write('\\n' + parte3)\n",
    "\n",
    "with open('texto_completo.txt', 'r', encoding='utf8') as arquivo:\n",
    "    conteudo = arquivo.read()\n",
    "print(conteudo)\n",
    "\n"
   ]
  },
  {
   "cell_type": "markdown",
   "metadata": {},
   "source": [
    "9.Extrair Informações Específicas   - Suponha que você tenha um arquivo chamado `pessoas.txt` com dados no seguinte formato: \n",
    "Nome: Ana, Idade: 30 \n",
    "Nome: Bruno, Idade: 25 \n",
    "Nome: Carla, Idade: 35 - Escreva um programa que leia o arquivo e exiba apenas os nomes das pessoas."
   ]
  },
  {
   "cell_type": "code",
   "execution_count": 1,
   "metadata": {},
   "outputs": [
    {
     "name": "stdout",
     "output_type": "stream",
     "text": [
      "Ana\n",
      "Bruno\n",
      "Carla\n"
     ]
    }
   ],
   "source": [
    "with open('pessoas.txt', 'r') as arquivo:\n",
    "    for linha in arquivo:\n",
    "    \n",
    "        inicio_nome = linha.find('Nome: ') + len('Nome: ')\n",
    "        fim_nome = linha.find(', Idade')\n",
    "        \n",
    "        nome = linha[inicio_nome:fim_nome]\n",
    "    \n",
    "        print(nome)"
   ]
  },
  {
   "cell_type": "markdown",
   "metadata": {},
   "source": [
    "10.   Dividir Arquivo Grande em Partes Menores   - Escreva um programa que leia um arquivo grande, `grande.txt`, e divida seu conteúdo em \n",
    "arquivos menores de no máximo 100 linhas cada. Nomeie os arquivos menores como \n",
    "`parte1.txt`, `parte2.txt`, etc."
   ]
  },
  {
   "cell_type": "code",
   "execution_count": null,
   "metadata": {},
   "outputs": [],
   "source": [
    "arquivo_entrada = 'grande.txt'\n",
    "\n",
    "with open(arquivo_entrada, 'r') as arquivo:\n",
    "    linhas = arquivo.readlines()\n",
    "\n",
    "total_linhas = len(linhas)\n",
    "meio = total_linhas // 2\n",
    "\n",
    "with open('parte1G.txt', 'w') as parte1:\n",
    "    parte1.writelines(linhas[:meio])\n",
    "\n",
    "with open('parte2G.txt', 'w') as parte2:\n",
    "    parte2.writelines(linhas[meio:])\n"
   ]
  },
  {
   "cell_type": "markdown",
   "metadata": {},
   "source": [
    "11.   Ordenar Linhas de um Arquivo   - Escreva um programa que leia um arquivo `nomes.txt`, onde cada linha contém um nome. - Ordene os nomes em ordem alfabética e grave o resultado em um novo arquivo chamado \n",
    "`nomes_ordenados.txt`."
   ]
  },
  {
   "cell_type": "code",
   "execution_count": null,
   "metadata": {},
   "outputs": [],
   "source": [
    "arquivo_entrada = 'nomes.txt'\n",
    "arquivo_saida = 'nomes_ordenados.txt'\n",
    "\n",
    "with open(arquivo_entrada, 'r') as arquivo:\n",
    "    nomes = arquivo.readlines()\n",
    "\n",
    "nomes_ordenados = sorted(nome.strip() for nome in nomes)\n",
    "\n",
    "with open(arquivo_saida, 'w') as arquivo:\n",
    "    for nome in nomes_ordenados:\n",
    "        arquivo.write(nome + '\\n')\n"
   ]
  },
  {
   "cell_type": "markdown",
   "metadata": {},
   "source": [
    "12.   Contar Ocorrências de Palavras   - Escreva um programa que leia um arquivo `texto.txt` e conte quantas vezes cada palavra \n",
    "aparece no arquivo. - Exiba as palavras e suas contagens no console. "
   ]
  },
  {
   "cell_type": "code",
   "execution_count": null,
   "metadata": {},
   "outputs": [],
   "source": [
    "arquivo_entrada = 'texto.txt'\n",
    "\n",
    "contagem_palavras = {}\n",
    "\n",
    "with open(arquivo_entrada, 'r') as arquivo:\n",
    "    for linha in arquivo:\n",
    "        \n",
    "        linha = linha.lower()\n",
    "        linha = ''.join(char if char.isalnum() or char.isspace() else ' ' for char in linha)\n",
    "        \n",
    "        palavras = linha.split()\n",
    "        \n",
    "        for palavra in palavras:\n",
    "            if palavra in contagem_palavras:\n",
    "                contagem_palavras[palavra] += 1\n",
    "            else:\n",
    "                contagem_palavras[palavra] = 1\n",
    "\n",
    "\n",
    "for palavra, contagem in contagem_palavras.items():\n",
    "    print(f\"{palavra}: {contagem}\")\n"
   ]
  },
  {
   "cell_type": "markdown",
   "metadata": {},
   "source": [
    "13.   Arquivo de Log   - Crie um programa que faça uma cópia de segurança do conteúdo de um arquivo `dados.txt` \n",
    "em um arquivo de log chamado `backup.txt`. - No final de cada execução, adicione a data e a hora em que a cópia de segurança foi feita. "
   ]
  },
  {
   "cell_type": "code",
   "execution_count": null,
   "metadata": {},
   "outputs": [
    {
     "name": "stdout",
     "output_type": "stream",
     "text": [
      "Backup realizado com sucesso.\n"
     ]
    }
   ],
   "source": [
    "arquivo_origem = 'dados.txt'\n",
    "arquivo_backup = 'backup.txt'\n",
    "\n",
    "with open(arquivo_origem, 'r') as origem:\n",
    "    conteudo = origem.read()\n",
    "\n",
    "with open(arquivo_backup, 'w') as backup:\n",
    "    backup.write(conteudo)\n",
    "\n",
    "ano = \"2024\"\n",
    "mes = \"11\"\n",
    "dia = \"08\"\n",
    "hora = \"10\"\n",
    "minuto = \"35\"\n",
    "segundo = \"45\"\n",
    "data_hora = ano + '-' + mes + '-' + dia + ' ' + hora + ':' + minuto + ':' + segundo\n",
    "\n",
    "with open(arquivo_backup, 'a') as backup:\n",
    "    backup.write(f\"\\nBackup realizado em: {data_hora}\\n\")\n",
    "\n",
    "print(\"Backup realizado com sucesso.\")"
   ]
  },
  {
   "cell_type": "markdown",
   "metadata": {},
   "source": [
    "14.   Remover Linhas Vazias   - Escreva um programa que leia um arquivo `com_vazios.txt`, remova todas as linhas vazias e \n",
    "salve o conteúdo em um novo arquivo chamado `sem_vazios.txt`."
   ]
  },
  {
   "cell_type": "code",
   "execution_count": 1,
   "metadata": {},
   "outputs": [
    {
     "name": "stdout",
     "output_type": "stream",
     "text": [
      "Linhas vazias removidas e conteúdo salvo em 'sem_vazios.txt'.\n"
     ]
    }
   ],
   "source": [
    "with open('com_vazios.txt', 'r') as arquivo:\n",
    "    linhas = arquivo.readlines()\n",
    "\n",
    "linhas_sem_vazias = [linha for linha in linhas if linha.strip()]\n",
    "\n",
    "\n",
    "with open('sem_vazios.txt', 'w') as novo_arquivo:\n",
    "    novo_arquivo.writelines(linhas_sem_vazias)\n",
    "\n",
    "print(\"Linhas vazias removidas e conteúdo salvo em 'sem_vazios.txt'.\")"
   ]
  },
  {
   "cell_type": "markdown",
   "metadata": {},
   "source": [
    "15.   Criação de um Registro de Usuário   - Escreva um programa que permita ao usuário registrar informações (nome, idade, email) \n",
    "em um arquivo `usuarios.txt`. - Cada vez que o programa for executado, ele deve adicionar um novo registro ao arquivo. "
   ]
  },
  {
   "cell_type": "code",
   "execution_count": 2,
   "metadata": {},
   "outputs": [
    {
     "name": "stdout",
     "output_type": "stream",
     "text": [
      "Usuário registrado com sucesso!\n"
     ]
    }
   ],
   "source": [
    "nome = input(\"Digite o nome: \")\n",
    "idade = input(\"Digite a idade: \")\n",
    "email = input(\"Digite o email: \")\n",
    "\n",
    "registro = f\"Nome: {nome}, Idade: {idade}, Email: {email}\\n\"\n",
    "\n",
    "with open('usuarios.txt', 'a') as arquivo:\n",
    "    arquivo.write(registro)\n",
    "\n",
    "print(\"Usuário registrado com sucesso!\")"
   ]
  },
  {
   "cell_type": "markdown",
   "metadata": {},
   "source": [
    "16.   Criptografar e Descriptografar um Arquivo   - Crie um programa que leia o conteúdo de um arquivo `secreto.txt`, \"criptografe\" o \n",
    "conteúdo substituindo cada caractere por outro (por exemplo, substitua cada letra por sua letra \n",
    "seguinte no alfabeto), e salve o conteúdo criptografado em um arquivo `criptografado.txt`. - Em seguida, escreva um programa para ler o `criptografado.txt` e \"descriptografar\" o \n",
    "conteúdo para exibir o texto original. \n"
   ]
  },
  {
   "cell_type": "code",
   "execution_count": 4,
   "metadata": {},
   "outputs": [
    {
     "name": "stdout",
     "output_type": "stream",
     "text": [
      "Conteúdo descriptografado:\n",
      "bananacomcanela\n"
     ]
    }
   ],
   "source": [
    "def criptografar(texto):\n",
    "    resultado = \"\"\n",
    "    for caractere in texto:\n",
    "        if caractere.isalpha():\n",
    "           \n",
    "            if caractere.islower():\n",
    "                novo_caractere = chr((ord(caractere) - ord('a') + 1) % 26 + ord('a'))\n",
    "            else:\n",
    "                novo_caractere = chr((ord(caractere) - ord('A') + 1) % 26 + ord('A'))\n",
    "            resultado += novo_caractere\n",
    "        else:\n",
    "            resultado += caractere  \n",
    "    return resultado\n",
    "\n",
    "def descriptografar(texto):\n",
    "    resultado = \"\"\n",
    "    for caractere in texto:\n",
    "        if caractere.isalpha():  \n",
    "           \n",
    "            if caractere.islower():\n",
    "                novo_char = chr((ord(caractere) - ord('a') - 1) % 26 + ord('a'))\n",
    "            else:\n",
    "                novo_char = chr((ord(caractere) - ord('A') - 1) % 26 + ord('A'))\n",
    "            resultado += novo_char\n",
    "        else:\n",
    "            resultado += caractere\n",
    "    return resultado\n",
    "\n",
    "operacao = input(\"Digite '1' para criptografar ou '2' para descriptografar: \").strip().lower()\n",
    "\n",
    "if operacao == '1':\n",
    "    with open('secreto.txt', 'r') as arquivo:\n",
    "        conteudo = arquivo.read()\n",
    "    \n",
    "    criptografado = criptografar(conteudo)\n",
    "    \n",
    "    with open('criptografado.txt', 'w') as arquivo:\n",
    "        arquivo.write(criptografado)\n",
    "    \n",
    "    print(\"Arquivo criptografado com sucesso! Salvo em 'criptografado.txt'.\")\n",
    "\n",
    "elif operacao == '2':\n",
    "    \n",
    "    with open('criptografado.txt', 'r') as arquivo:\n",
    "        criptografado = arquivo.read()\n",
    "    \n",
    "    original = descriptografar(criptografado)\n",
    "    \n",
    "    print(\"Conteúdo descriptografado:\")\n",
    "    print(original)\n",
    "    \n",
    "else:\n",
    "    print(\"Operação inválida. Digite '1' para criptografar ou '2' para descriptografar.\")"
   ]
  },
  {
   "cell_type": "markdown",
   "metadata": {},
   "source": [
    "17.   Manipular Arquivo Binário   - Crie um programa que leia um arquivo de imagem (`imagem.jpg`) em modo binário e faça \n",
    "uma cópia exata dele em `imagem_copia.jpg`. "
   ]
  },
  {
   "cell_type": "code",
   "execution_count": 5,
   "metadata": {},
   "outputs": [
    {
     "name": "stdout",
     "output_type": "stream",
     "text": [
      "Cópia da imagem criada com sucesso em 'mob_copia.jpg'.\n"
     ]
    }
   ],
   "source": [
    "with open('mob.jpg', 'rb') as original:\n",
    "    \n",
    "    conteudo = original.read()\n",
    "\n",
    "with open('mob_copia.jpg', 'wb') as copia:\n",
    "    copia.write(conteudo)\n",
    "\n",
    "print(\"Cópia da imagem criada com sucesso em 'mob_copia.jpg'.\")"
   ]
  },
  {
   "cell_type": "markdown",
   "metadata": {},
   "source": [
    "18.   Validação de Dados em um Arquivo   - Suponha que você tenha um arquivo `dados.csv` com linhas no formato `nome, idade, \n",
    "email`. - Escreva um programa que valide cada linha verificando se: - A idade é um número inteiro positivo. - O email contém um `@`. - Para cada linha inválida, escreva a linha em um novo arquivo chamado `erros.csv`."
   ]
  },
  {
   "cell_type": "code",
   "execution_count": null,
   "metadata": {},
   "outputs": [
    {
     "name": "stdout",
     "output_type": "stream",
     "text": [
      "Validação concluída. Linhas inválidas foram salvas em 'erros.csv'.\n"
     ]
    }
   ],
   "source": [
    "with open('dados.csv', 'r') as arquivo_dados, open('erros.csv', 'w') as arquivo_erros:\n",
    "    for linha in arquivo_dados:\n",
    "        \n",
    "        linha = linha.strip()\n",
    "        \n",
    "        campos = linha.split(',')\n",
    "        \n",
    "        if len(campos) != 3:\n",
    "            arquivo_erros.write(linha + '\\n')\n",
    "            continue\n",
    "        \n",
    "        nome, idade, email = campos\n",
    "        \n",
    "        try:\n",
    "            idade = int(idade)\n",
    "            if idade <= 0:\n",
    "                raise ValueError(\"Idade não é positiva\")\n",
    "        except ValueError:\n",
    "            arquivo_erros.write(linha + '\\n')\n",
    "            continue\n",
    "        \n",
    "        if '@' not in email:\n",
    "            arquivo_erros.write(linha + '\\n')\n",
    "            continue\n",
    "\n",
    "print(\"Validação concluída. Linhas inválidas foram salvas em 'erros.csv'.\")"
   ]
  }
 ],
 "metadata": {
  "kernelspec": {
   "display_name": "Python 3",
   "language": "python",
   "name": "python3"
  },
  "language_info": {
   "codemirror_mode": {
    "name": "ipython",
    "version": 3
   },
   "file_extension": ".py",
   "mimetype": "text/x-python",
   "name": "python",
   "nbconvert_exporter": "python",
   "pygments_lexer": "ipython3",
   "version": "3.12.6"
  }
 },
 "nbformat": 4,
 "nbformat_minor": 2
}
